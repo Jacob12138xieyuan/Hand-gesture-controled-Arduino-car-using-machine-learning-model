{
 "cells": [
  {
   "cell_type": "markdown",
   "metadata": {},
   "source": [
    "# Import opencv and numpy"
   ]
  },
  {
   "cell_type": "code",
   "execution_count": null,
   "metadata": {},
   "outputs": [],
   "source": [
    "import cv2\n",
    "import numpy as np"
   ]
  },
  {
   "cell_type": "markdown",
   "metadata": {},
   "source": [
    "# Start video and capture some picture data"
   ]
  },
  {
   "cell_type": "code",
   "execution_count": null,
   "metadata": {},
   "outputs": [],
   "source": [
    "cap = cv2.VideoCapture(0) # enable your computer camera and start video stream\n",
    "\n",
    "i = 1 # counter\n",
    "while True: # read video continuously\n",
    "    _,frame = cap.read() # read from the video\n",
    "    frame = cv2.flip(frame,1) # flip your video\n",
    "    \n",
    "    cv2.rectangle(frame,(360,60),(590,290),(0,255,0),5) # draw a green square, the location of two vertexs are (360,60) and (590,290)\n",
    "    # so the size of picture is \n",
    "    font = cv2.FONT_HERSHEY_SIMPLEX # define your font\n",
    "    cv2.putText(frame,'Put your RIGHT hand in the square',(255,40),font,0.7,(0,255,0),1,cv2.LINE_AA) # write green text at start at location (255,40)\n",
    "    cv2.imshow('Taking data pictures',frame) # display your video on your computer as name 'taking picture'\n",
    "    k = cv2.waitKey(1) # get input from keyboard\n",
    "    if k == ord('c'): #press 'c' key to capture photo, and increment 1\n",
    "        i+=1\n",
    "        print(i) # print out the counter value\n",
    "        \n",
    "        cv2.imwrite('data/train/0/imag'+str(i)+'.jpg',frame[63:287,363:587]) # save your picture with size (224,224) to some location in the same folder\n",
    "        #remember change to corresponding directory\n",
    "          \n",
    "    if k ==27: # press 'Esc' key to exit \n",
    "        break # exit while loop\n",
    "        \n",
    "#========================================\n",
    "\n",
    "cv2.destroyAllWindows() # close down window\n",
    "cap.release() # disable your camera        "
   ]
  }
 ],
 "metadata": {
  "kernelspec": {
   "display_name": "Python 3",
   "language": "python",
   "name": "python3"
  },
  "language_info": {
   "codemirror_mode": {
    "name": "ipython",
    "version": 3
   },
   "file_extension": ".py",
   "mimetype": "text/x-python",
   "name": "python",
   "nbconvert_exporter": "python",
   "pygments_lexer": "ipython3",
   "version": "3.6.5"
  }
 },
 "nbformat": 4,
 "nbformat_minor": 2
}
